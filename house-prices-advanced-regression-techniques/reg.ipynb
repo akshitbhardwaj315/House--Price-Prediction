{
 "cells": [
  {
   "cell_type": "markdown",
   "id": "3efd5251-1c87-45a3-9699-1318fb547ee6",
   "metadata": {},
   "source": []
  },
  {
   "cell_type": "code",
   "execution_count": 23,
   "id": "9bc2ef6b-0fd0-41c6-ac30-3e40783453ee",
   "metadata": {},
   "outputs": [],
   "source": [
    "import pandas as pd\n",
    "import numpy as np \n",
    "import matplotlib.pyplot as plt\n",
    "import seaborn as sns \n",
    "import warnings\n",
    "warnings.filterwarnings('ignore', category=UserWarning)"
   ]
  },
  {
   "cell_type": "code",
   "execution_count": 24,
   "id": "549dde94-73ab-4c9d-9ab5-0da5f3c18c04",
   "metadata": {},
   "outputs": [],
   "source": [
    "from sklearn.model_selection import train_test_split,GridSearchCV\n",
    "from sklearn.preprocessing import StandardScaler,OrdinalEncoder, OneHotEncoder, PowerTransformer\n",
    "from sklearn.linear_model import LinearRegression,SGDRegressor,Ridge,ElasticNet,Lasso,Ridge\n",
    "from sklearn.metrics import r2_score\n",
    "from sklearn.decomposition import PCA\n",
    "from sklearn.pipeline import Pipeline\n",
    "from sklearn.compose import ColumnTransformer\n",
    "from sklearn.impute import SimpleImputer\n",
    "from sklearn.model_selection import cross_val_score\n",
    "from sklearn.ensemble import RandomForestRegressor, GradientBoostingRegressor\n",
    "from xgboost import XGBRegressor "
   ]
  },
  {
   "cell_type": "code",
   "execution_count": 25,
   "id": "81a56d66-6af7-474e-bc10-ee5fa82d1343",
   "metadata": {},
   "outputs": [
    {
     "data": {
      "text/html": [
       "<div>\n",
       "<style scoped>\n",
       "    .dataframe tbody tr th:only-of-type {\n",
       "        vertical-align: middle;\n",
       "    }\n",
       "\n",
       "    .dataframe tbody tr th {\n",
       "        vertical-align: top;\n",
       "    }\n",
       "\n",
       "    .dataframe thead th {\n",
       "        text-align: right;\n",
       "    }\n",
       "</style>\n",
       "<table border=\"1\" class=\"dataframe\">\n",
       "  <thead>\n",
       "    <tr style=\"text-align: right;\">\n",
       "      <th></th>\n",
       "      <th>Id</th>\n",
       "      <th>MSSubClass</th>\n",
       "      <th>MSZoning</th>\n",
       "      <th>LotFrontage</th>\n",
       "      <th>LotArea</th>\n",
       "      <th>Street</th>\n",
       "      <th>Alley</th>\n",
       "      <th>LotShape</th>\n",
       "      <th>LandContour</th>\n",
       "      <th>Utilities</th>\n",
       "      <th>...</th>\n",
       "      <th>PoolArea</th>\n",
       "      <th>PoolQC</th>\n",
       "      <th>Fence</th>\n",
       "      <th>MiscFeature</th>\n",
       "      <th>MiscVal</th>\n",
       "      <th>MoSold</th>\n",
       "      <th>YrSold</th>\n",
       "      <th>SaleType</th>\n",
       "      <th>SaleCondition</th>\n",
       "      <th>SalePrice</th>\n",
       "    </tr>\n",
       "  </thead>\n",
       "  <tbody>\n",
       "    <tr>\n",
       "      <th>0</th>\n",
       "      <td>1</td>\n",
       "      <td>60</td>\n",
       "      <td>RL</td>\n",
       "      <td>65.0</td>\n",
       "      <td>8450</td>\n",
       "      <td>Pave</td>\n",
       "      <td>NaN</td>\n",
       "      <td>Reg</td>\n",
       "      <td>Lvl</td>\n",
       "      <td>AllPub</td>\n",
       "      <td>...</td>\n",
       "      <td>0</td>\n",
       "      <td>NaN</td>\n",
       "      <td>NaN</td>\n",
       "      <td>NaN</td>\n",
       "      <td>0</td>\n",
       "      <td>2</td>\n",
       "      <td>2008</td>\n",
       "      <td>WD</td>\n",
       "      <td>Normal</td>\n",
       "      <td>208500</td>\n",
       "    </tr>\n",
       "    <tr>\n",
       "      <th>1</th>\n",
       "      <td>2</td>\n",
       "      <td>20</td>\n",
       "      <td>RL</td>\n",
       "      <td>80.0</td>\n",
       "      <td>9600</td>\n",
       "      <td>Pave</td>\n",
       "      <td>NaN</td>\n",
       "      <td>Reg</td>\n",
       "      <td>Lvl</td>\n",
       "      <td>AllPub</td>\n",
       "      <td>...</td>\n",
       "      <td>0</td>\n",
       "      <td>NaN</td>\n",
       "      <td>NaN</td>\n",
       "      <td>NaN</td>\n",
       "      <td>0</td>\n",
       "      <td>5</td>\n",
       "      <td>2007</td>\n",
       "      <td>WD</td>\n",
       "      <td>Normal</td>\n",
       "      <td>181500</td>\n",
       "    </tr>\n",
       "    <tr>\n",
       "      <th>2</th>\n",
       "      <td>3</td>\n",
       "      <td>60</td>\n",
       "      <td>RL</td>\n",
       "      <td>68.0</td>\n",
       "      <td>11250</td>\n",
       "      <td>Pave</td>\n",
       "      <td>NaN</td>\n",
       "      <td>IR1</td>\n",
       "      <td>Lvl</td>\n",
       "      <td>AllPub</td>\n",
       "      <td>...</td>\n",
       "      <td>0</td>\n",
       "      <td>NaN</td>\n",
       "      <td>NaN</td>\n",
       "      <td>NaN</td>\n",
       "      <td>0</td>\n",
       "      <td>9</td>\n",
       "      <td>2008</td>\n",
       "      <td>WD</td>\n",
       "      <td>Normal</td>\n",
       "      <td>223500</td>\n",
       "    </tr>\n",
       "    <tr>\n",
       "      <th>3</th>\n",
       "      <td>4</td>\n",
       "      <td>70</td>\n",
       "      <td>RL</td>\n",
       "      <td>60.0</td>\n",
       "      <td>9550</td>\n",
       "      <td>Pave</td>\n",
       "      <td>NaN</td>\n",
       "      <td>IR1</td>\n",
       "      <td>Lvl</td>\n",
       "      <td>AllPub</td>\n",
       "      <td>...</td>\n",
       "      <td>0</td>\n",
       "      <td>NaN</td>\n",
       "      <td>NaN</td>\n",
       "      <td>NaN</td>\n",
       "      <td>0</td>\n",
       "      <td>2</td>\n",
       "      <td>2006</td>\n",
       "      <td>WD</td>\n",
       "      <td>Abnorml</td>\n",
       "      <td>140000</td>\n",
       "    </tr>\n",
       "    <tr>\n",
       "      <th>4</th>\n",
       "      <td>5</td>\n",
       "      <td>60</td>\n",
       "      <td>RL</td>\n",
       "      <td>84.0</td>\n",
       "      <td>14260</td>\n",
       "      <td>Pave</td>\n",
       "      <td>NaN</td>\n",
       "      <td>IR1</td>\n",
       "      <td>Lvl</td>\n",
       "      <td>AllPub</td>\n",
       "      <td>...</td>\n",
       "      <td>0</td>\n",
       "      <td>NaN</td>\n",
       "      <td>NaN</td>\n",
       "      <td>NaN</td>\n",
       "      <td>0</td>\n",
       "      <td>12</td>\n",
       "      <td>2008</td>\n",
       "      <td>WD</td>\n",
       "      <td>Normal</td>\n",
       "      <td>250000</td>\n",
       "    </tr>\n",
       "  </tbody>\n",
       "</table>\n",
       "<p>5 rows × 81 columns</p>\n",
       "</div>"
      ],
      "text/plain": [
       "   Id  MSSubClass MSZoning  LotFrontage  LotArea Street Alley LotShape  \\\n",
       "0   1          60       RL         65.0     8450   Pave   NaN      Reg   \n",
       "1   2          20       RL         80.0     9600   Pave   NaN      Reg   \n",
       "2   3          60       RL         68.0    11250   Pave   NaN      IR1   \n",
       "3   4          70       RL         60.0     9550   Pave   NaN      IR1   \n",
       "4   5          60       RL         84.0    14260   Pave   NaN      IR1   \n",
       "\n",
       "  LandContour Utilities  ... PoolArea PoolQC Fence MiscFeature MiscVal MoSold  \\\n",
       "0         Lvl    AllPub  ...        0    NaN   NaN         NaN       0      2   \n",
       "1         Lvl    AllPub  ...        0    NaN   NaN         NaN       0      5   \n",
       "2         Lvl    AllPub  ...        0    NaN   NaN         NaN       0      9   \n",
       "3         Lvl    AllPub  ...        0    NaN   NaN         NaN       0      2   \n",
       "4         Lvl    AllPub  ...        0    NaN   NaN         NaN       0     12   \n",
       "\n",
       "  YrSold  SaleType  SaleCondition  SalePrice  \n",
       "0   2008        WD         Normal     208500  \n",
       "1   2007        WD         Normal     181500  \n",
       "2   2008        WD         Normal     223500  \n",
       "3   2006        WD        Abnorml     140000  \n",
       "4   2008        WD         Normal     250000  \n",
       "\n",
       "[5 rows x 81 columns]"
      ]
     },
     "execution_count": 25,
     "metadata": {},
     "output_type": "execute_result"
    }
   ],
   "source": [
    "df = pd.read_csv('train.csv')\n",
    "df.head()"
   ]
  },
  {
   "cell_type": "code",
   "execution_count": 26,
   "id": "226507bd-687c-428a-b637-fb5d7617cb73",
   "metadata": {},
   "outputs": [
    {
     "name": "stdout",
     "output_type": "stream",
     "text": [
      "<class 'pandas.core.frame.DataFrame'>\n",
      "RangeIndex: 1460 entries, 0 to 1459\n",
      "Data columns (total 81 columns):\n",
      " #   Column         Non-Null Count  Dtype  \n",
      "---  ------         --------------  -----  \n",
      " 0   Id             1460 non-null   int64  \n",
      " 1   MSSubClass     1460 non-null   int64  \n",
      " 2   MSZoning       1460 non-null   object \n",
      " 3   LotFrontage    1201 non-null   float64\n",
      " 4   LotArea        1460 non-null   int64  \n",
      " 5   Street         1460 non-null   object \n",
      " 6   Alley          91 non-null     object \n",
      " 7   LotShape       1460 non-null   object \n",
      " 8   LandContour    1460 non-null   object \n",
      " 9   Utilities      1460 non-null   object \n",
      " 10  LotConfig      1460 non-null   object \n",
      " 11  LandSlope      1460 non-null   object \n",
      " 12  Neighborhood   1460 non-null   object \n",
      " 13  Condition1     1460 non-null   object \n",
      " 14  Condition2     1460 non-null   object \n",
      " 15  BldgType       1460 non-null   object \n",
      " 16  HouseStyle     1460 non-null   object \n",
      " 17  OverallQual    1460 non-null   int64  \n",
      " 18  OverallCond    1460 non-null   int64  \n",
      " 19  YearBuilt      1460 non-null   int64  \n",
      " 20  YearRemodAdd   1460 non-null   int64  \n",
      " 21  RoofStyle      1460 non-null   object \n",
      " 22  RoofMatl       1460 non-null   object \n",
      " 23  Exterior1st    1460 non-null   object \n",
      " 24  Exterior2nd    1460 non-null   object \n",
      " 25  MasVnrType     588 non-null    object \n",
      " 26  MasVnrArea     1452 non-null   float64\n",
      " 27  ExterQual      1460 non-null   object \n",
      " 28  ExterCond      1460 non-null   object \n",
      " 29  Foundation     1460 non-null   object \n",
      " 30  BsmtQual       1423 non-null   object \n",
      " 31  BsmtCond       1423 non-null   object \n",
      " 32  BsmtExposure   1422 non-null   object \n",
      " 33  BsmtFinType1   1423 non-null   object \n",
      " 34  BsmtFinSF1     1460 non-null   int64  \n",
      " 35  BsmtFinType2   1422 non-null   object \n",
      " 36  BsmtFinSF2     1460 non-null   int64  \n",
      " 37  BsmtUnfSF      1460 non-null   int64  \n",
      " 38  TotalBsmtSF    1460 non-null   int64  \n",
      " 39  Heating        1460 non-null   object \n",
      " 40  HeatingQC      1460 non-null   object \n",
      " 41  CentralAir     1460 non-null   object \n",
      " 42  Electrical     1459 non-null   object \n",
      " 43  1stFlrSF       1460 non-null   int64  \n",
      " 44  2ndFlrSF       1460 non-null   int64  \n",
      " 45  LowQualFinSF   1460 non-null   int64  \n",
      " 46  GrLivArea      1460 non-null   int64  \n",
      " 47  BsmtFullBath   1460 non-null   int64  \n",
      " 48  BsmtHalfBath   1460 non-null   int64  \n",
      " 49  FullBath       1460 non-null   int64  \n",
      " 50  HalfBath       1460 non-null   int64  \n",
      " 51  BedroomAbvGr   1460 non-null   int64  \n",
      " 52  KitchenAbvGr   1460 non-null   int64  \n",
      " 53  KitchenQual    1460 non-null   object \n",
      " 54  TotRmsAbvGrd   1460 non-null   int64  \n",
      " 55  Functional     1460 non-null   object \n",
      " 56  Fireplaces     1460 non-null   int64  \n",
      " 57  FireplaceQu    770 non-null    object \n",
      " 58  GarageType     1379 non-null   object \n",
      " 59  GarageYrBlt    1379 non-null   float64\n",
      " 60  GarageFinish   1379 non-null   object \n",
      " 61  GarageCars     1460 non-null   int64  \n",
      " 62  GarageArea     1460 non-null   int64  \n",
      " 63  GarageQual     1379 non-null   object \n",
      " 64  GarageCond     1379 non-null   object \n",
      " 65  PavedDrive     1460 non-null   object \n",
      " 66  WoodDeckSF     1460 non-null   int64  \n",
      " 67  OpenPorchSF    1460 non-null   int64  \n",
      " 68  EnclosedPorch  1460 non-null   int64  \n",
      " 69  3SsnPorch      1460 non-null   int64  \n",
      " 70  ScreenPorch    1460 non-null   int64  \n",
      " 71  PoolArea       1460 non-null   int64  \n",
      " 72  PoolQC         7 non-null      object \n",
      " 73  Fence          281 non-null    object \n",
      " 74  MiscFeature    54 non-null     object \n",
      " 75  MiscVal        1460 non-null   int64  \n",
      " 76  MoSold         1460 non-null   int64  \n",
      " 77  YrSold         1460 non-null   int64  \n",
      " 78  SaleType       1460 non-null   object \n",
      " 79  SaleCondition  1460 non-null   object \n",
      " 80  SalePrice      1460 non-null   int64  \n",
      "dtypes: float64(3), int64(35), object(43)\n",
      "memory usage: 924.0+ KB\n"
     ]
    }
   ],
   "source": [
    "df.info()"
   ]
  },
  {
   "cell_type": "code",
   "execution_count": 27,
   "id": "d532cc2a-b171-4102-9021-39c2153d06be",
   "metadata": {},
   "outputs": [],
   "source": [
    "df = df.drop(columns=['Id','Alley','MasVnrType','PoolQC','Fence','MiscFeature'],axis = 1)"
   ]
  },
  {
   "cell_type": "code",
   "execution_count": 28,
   "id": "b601b7dc-3bd1-45c2-8323-ee5a686ade35",
   "metadata": {},
   "outputs": [],
   "source": [
    "X = df.drop('SalePrice',axis = 1)\n",
    "y = df['SalePrice']"
   ]
  },
  {
   "cell_type": "code",
   "execution_count": 29,
   "id": "c673ab2f-4143-43fe-9557-4fa561d23b99",
   "metadata": {},
   "outputs": [
    {
     "data": {
      "text/plain": [
       "Index(['MSSubClass', 'MSZoning', 'LotFrontage', 'LotArea', 'Street',\n",
       "       'LotShape', 'LandContour', 'Utilities', 'LotConfig', 'LandSlope',\n",
       "       'Neighborhood', 'Condition1', 'Condition2', 'BldgType', 'HouseStyle',\n",
       "       'OverallQual', 'OverallCond', 'YearBuilt', 'YearRemodAdd', 'RoofStyle',\n",
       "       'RoofMatl', 'Exterior1st', 'Exterior2nd', 'MasVnrArea', 'ExterQual',\n",
       "       'ExterCond', 'Foundation', 'BsmtQual', 'BsmtCond', 'BsmtExposure',\n",
       "       'BsmtFinType1', 'BsmtFinSF1', 'BsmtFinType2', 'BsmtFinSF2', 'BsmtUnfSF',\n",
       "       'TotalBsmtSF', 'Heating', 'HeatingQC', 'CentralAir', 'Electrical',\n",
       "       '1stFlrSF', '2ndFlrSF', 'LowQualFinSF', 'GrLivArea', 'BsmtFullBath',\n",
       "       'BsmtHalfBath', 'FullBath', 'HalfBath', 'BedroomAbvGr', 'KitchenAbvGr',\n",
       "       'KitchenQual', 'TotRmsAbvGrd', 'Functional', 'Fireplaces',\n",
       "       'FireplaceQu', 'GarageType', 'GarageYrBlt', 'GarageFinish',\n",
       "       'GarageCars', 'GarageArea', 'GarageQual', 'GarageCond', 'PavedDrive',\n",
       "       'WoodDeckSF', 'OpenPorchSF', 'EnclosedPorch', '3SsnPorch',\n",
       "       'ScreenPorch', 'PoolArea', 'MiscVal', 'MoSold', 'YrSold', 'SaleType',\n",
       "       'SaleCondition'],\n",
       "      dtype='object')"
      ]
     },
     "execution_count": 29,
     "metadata": {},
     "output_type": "execute_result"
    }
   ],
   "source": [
    "X.columns"
   ]
  },
  {
   "cell_type": "code",
   "execution_count": 30,
   "id": "c235c4bc-d59a-40f5-9320-fd5f8a9c7268",
   "metadata": {},
   "outputs": [],
   "source": [
    "X_numeric = X.select_dtypes(include = ['int64','float64']).columns.tolist()\n",
    "X_categorical = X.select_dtypes(include = ['object']).columns.tolist()"
   ]
  },
  {
   "cell_type": "code",
   "execution_count": 31,
   "id": "f8437b4f-f715-45ec-ba54-4b76786e4346",
   "metadata": {},
   "outputs": [],
   "source": [
    "low_card_cat = [col for col in X_categorical if X[col].nunique() <= 5]\n",
    "high_card_cat = [col for col in X_categorical if X[col].nunique() > 5]"
   ]
  },
  {
   "cell_type": "code",
   "execution_count": 32,
   "id": "f5d2ede8-76be-46ab-878e-163e2ab98a1a",
   "metadata": {},
   "outputs": [
    {
     "name": "stdout",
     "output_type": "stream",
     "text": [
      "Skewed   (1.408): MSSubClass\n",
      "Skewed   (2.164): LotFrontage\n",
      "Skewed   (12.208): LotArea\n",
      "Normal   (0.217): OverallQual\n",
      "Skewed   (0.693): OverallCond\n",
      "Skewed   (-0.613): YearBuilt\n",
      "Skewed   (-0.504): YearRemodAdd\n",
      "Skewed   (2.669): MasVnrArea\n",
      "Skewed   (1.686): BsmtFinSF1\n",
      "Skewed   (4.255): BsmtFinSF2\n",
      "Skewed   (0.920): BsmtUnfSF\n",
      "Skewed   (1.524): TotalBsmtSF\n",
      "Skewed   (1.377): 1stFlrSF\n",
      "Skewed   (0.813): 2ndFlrSF\n",
      "Skewed   (9.011): LowQualFinSF\n",
      "Skewed   (1.367): GrLivArea\n",
      "Skewed   (0.596): BsmtFullBath\n",
      "Skewed   (4.103): BsmtHalfBath\n",
      "Normal   (0.037): FullBath\n",
      "Skewed   (0.676): HalfBath\n",
      "Normal   (0.212): BedroomAbvGr\n",
      "Skewed   (4.488): KitchenAbvGr\n",
      "Skewed   (0.676): TotRmsAbvGrd\n",
      "Skewed   (0.650): Fireplaces\n",
      "Skewed   (-0.649): GarageYrBlt\n",
      "Normal   (-0.343): GarageCars\n",
      "Normal   (0.180): GarageArea\n",
      "Skewed   (1.541): WoodDeckSF\n",
      "Skewed   (2.364): OpenPorchSF\n",
      "Skewed   (3.090): EnclosedPorch\n",
      "Skewed   (10.304): 3SsnPorch\n",
      "Skewed   (4.122): ScreenPorch\n",
      "Skewed   (14.828): PoolArea\n",
      "Skewed   (24.477): MiscVal\n",
      "Normal   (0.212): MoSold\n",
      "Normal   (0.096): YrSold\n"
     ]
    }
   ],
   "source": [
    "for column in X_numeric:\n",
    "    skew_value = df[column].skew()\n",
    "    if skew_value > 0.5 or skew_value < -0.5:\n",
    "        print(f\"Skewed   ({skew_value:.3f}): {column}\")\n",
    "    else:\n",
    "        print(f\"Normal   ({skew_value:.3f}): {column}\")\n"
   ]
  },
  {
   "cell_type": "code",
   "execution_count": 33,
   "id": "317ae86e-9a0e-4dd1-95bf-5d574a07655e",
   "metadata": {},
   "outputs": [],
   "source": [
    "numeric_transformer = Pipeline(steps=[\n",
    "    ('imputer',SimpleImputer(strategy='median')),\n",
    "    ('yeo-johnson',PowerTransformer(method='yeo-johnson'))\n",
    "])"
   ]
  },
  {
   "cell_type": "code",
   "execution_count": 34,
   "id": "41799849-e3ed-4e29-8c1c-09586e16ed1c",
   "metadata": {},
   "outputs": [],
   "source": [
    "ordinal_transformer = Pipeline(steps=[\n",
    "    ('imputer',SimpleImputer(strategy='most_frequent')),\n",
    "    ('ode',OrdinalEncoder(handle_unknown='use_encoded_value', unknown_value=-1))\n",
    "])"
   ]
  },
  {
   "cell_type": "code",
   "execution_count": 35,
   "id": "b709f092-8bf6-4f91-b0a7-57ef15cc0e27",
   "metadata": {},
   "outputs": [],
   "source": [
    "nominal_transformer = Pipeline(steps=[\n",
    "    ('imputer',SimpleImputer(strategy='most_frequent')),\n",
    "    ('ode', OneHotEncoder(sparse_output=False, drop='if_binary', handle_unknown='ignore'))\n",
    "])"
   ]
  },
  {
   "cell_type": "code",
   "execution_count": 36,
   "id": "0fcdb0d6-82cd-48bc-9d3a-fff5ca15f4db",
   "metadata": {},
   "outputs": [],
   "source": [
    "preprocessor = ColumnTransformer([\n",
    "    ('num',numeric_transformer,X_numeric),\n",
    "    ('ode',ordinal_transformer,low_card_cat),\n",
    "    ('ohe',nominal_transformer,high_card_cat)\n",
    "])"
   ]
  },
  {
   "cell_type": "code",
   "execution_count": 37,
   "id": "2d69f100-314c-4832-95f9-7f8a172347b8",
   "metadata": {},
   "outputs": [],
   "source": [
    "models = {\n",
    "    'Lr':LinearRegression(),\n",
    "    'L2':Ridge(),\n",
    "    'L1':Lasso(),\n",
    "    'ElasticNet':ElasticNet()\n",
    "}\n"
   ]
  },
  {
   "cell_type": "code",
   "execution_count": 38,
   "id": "e0789590-33f6-495f-89cc-e549a1919090",
   "metadata": {},
   "outputs": [],
   "source": [
    "param_grids = {\n",
    "    'Lr': {},\n",
    "    'L2': {'model__alpha': [0.01, 0.1, 1, 10]},\n",
    "    'L1': {'model__alpha': [0.01, 0.1, 1]},\n",
    "    'ElasticNet': {\n",
    "        'model__alpha': [0.01, 0.1, 1],\n",
    "        'model__l1_ratio': [0.2, 0.5, 0.8]\n",
    "    }\n",
    "}"
   ]
  },
  {
   "cell_type": "code",
   "execution_count": 39,
   "id": "d9c5eba7-dac0-4eae-ba7b-dda0b6735816",
   "metadata": {},
   "outputs": [],
   "source": [
    "X_train,X_test,y_train,y_test = train_test_split(X,y,test_size=0.2,random_state=42)"
   ]
  },
  {
   "cell_type": "code",
   "execution_count": 40,
   "id": "a2aeb3c9-ec60-428d-a903-61635e24b6d6",
   "metadata": {},
   "outputs": [
    {
     "name": "stdout",
     "output_type": "stream",
     "text": [
      "LinearRegression() : -4.768097858015575\n",
      "Ridge() : 0.8514548228424439\n",
      "Lasso() : 0.8646279269675092\n",
      "ElasticNet() : 0.8471779015018532\n",
      "Best Params: {'model__alpha': 0.1, 'model__l1_ratio': 0.8}\n"
     ]
    }
   ],
   "source": [
    "for name, model in models.items():\n",
    "    \n",
    "    pipe = Pipeline(steps=[\n",
    "        ('preprocessor',preprocessor),\n",
    "        ('model',model)\n",
    "    ])\n",
    "\n",
    "    grid = GridSearchCV(pipe, param_grids[name], cv=10, scoring='r2')\n",
    "    grid.fit(X_train,y_train)\n",
    "    y_pred = grid.predict(X_test)\n",
    "    print(model,':',r2_score(y_test,y_pred))\n",
    "print(\"Best Params:\", grid.best_params_)\n"
   ]
  },
  {
   "cell_type": "code",
   "execution_count": 41,
   "id": "9c9b7a00-f609-4a42-8937-8ef5358d2c3f",
   "metadata": {},
   "outputs": [],
   "source": [
    "models_tree = {\n",
    "    'RandomForest': RandomForestRegressor(n_estimators=100, max_depth=10, random_state=42),\n",
    "    'GradientBoosting': GradientBoostingRegressor(n_estimators=100, learning_rate=0.1, max_depth=5, random_state=42),\n",
    "    'XGBoost': XGBRegressor(n_estimators=100, learning_rate=0.1, max_depth=5, random_state=42, verbosity=0)\n",
    "}"
   ]
  },
  {
   "cell_type": "code",
   "execution_count": 42,
   "id": "5c39485a-5d41-44d6-9dbf-06b203bf6cb7",
   "metadata": {},
   "outputs": [],
   "source": [
    "param_grids_tree = {\n",
    "    'RandomForest': {\n",
    "        'model__n_estimators': [100, 200],\n",
    "        'model__max_depth': [5, 10, 15]\n",
    "    },\n",
    "    'GradientBoosting': {\n",
    "        'model__n_estimators': [100, 200],\n",
    "        'model__learning_rate': [0.05, 0.1],\n",
    "        'model__max_depth': [3, 5]\n",
    "    },\n",
    "    'XGBoost': {\n",
    "        'model__n_estimators': [100, 200],\n",
    "        'model__learning_rate': [0.05, 0.1],\n",
    "        'model__max_depth': [3, 5]\n",
    "    }\n",
    "}"
   ]
  },
  {
   "cell_type": "code",
   "execution_count": 45,
   "id": "fe1c0434-3735-4e11-89da-dec8d6ca5655",
   "metadata": {},
   "outputs": [
    {
     "name": "stdout",
     "output_type": "stream",
     "text": [
      "\n",
      "RandomForest\n",
      "Best Params: {'model__max_depth': 15, 'model__n_estimators': 100}\n",
      "CV R² (Best Score): 0.8427633095490801\n",
      "Test R²: 0.891172547856312\n",
      "\n",
      "GradientBoosting\n",
      "Best Params: {'model__learning_rate': 0.05, 'model__max_depth': 3, 'model__n_estimators': 200}\n",
      "CV R² (Best Score): 0.8642667063722875\n",
      "Test R²: 0.8942692005309819\n",
      "\n",
      "XGBoost\n",
      "Best Params: {'model__learning_rate': 0.1, 'model__max_depth': 3, 'model__n_estimators': 200}\n",
      "CV R² (Best Score): 0.8644922316074372\n",
      "Test R²: 0.9106284379959106\n"
     ]
    }
   ],
   "source": [
    "for name, model in models_tree.items():\n",
    "    \n",
    "    pipe = Pipeline(steps=[\n",
    "        ('preprocessor',preprocessor),\n",
    "        ('model',model)\n",
    "    ])\n",
    "\n",
    "    grid = GridSearchCV(pipe, param_grids_tree[name], cv=10, scoring='r2')\n",
    "    grid.fit(X_train,y_train)\n",
    "    y_pred = grid.predict(X_test)\n",
    "\n",
    "    \n",
    "    print(f\"\\n{name}\")\n",
    "    print(\"Best Params:\", grid.best_params_)\n",
    "    print(\"CV R² (Best Score):\", grid.best_score_)\n",
    "    print(\"Test R²:\", r2_score(y_test, y_pred))\n"
   ]
  },
  {
   "cell_type": "code",
   "execution_count": 46,
   "id": "cef5ccb7-b307-4281-9fe5-0d561edfb280",
   "metadata": {},
   "outputs": [
    {
     "name": "stdout",
     "output_type": "stream",
     "text": [
      "Best Params: {'model__learning_rate': 0.1, 'model__max_depth': 3, 'model__n_estimators': 200}\n",
      "Best Score: 0.8644922316074372\n"
     ]
    }
   ],
   "source": [
    "print(\"Best Params:\", grid.best_params_)\n",
    "print(\"Best Score:\", grid.best_score_)"
   ]
  },
  {
   "cell_type": "code",
   "execution_count": 47,
   "id": "93b13e29-661b-47bf-a0e3-104328bc4af3",
   "metadata": {},
   "outputs": [
    {
     "name": "stdout",
     "output_type": "stream",
     "text": [
      "Final Test R²: 0.9106284379959106\n"
     ]
    }
   ],
   "source": [
    "final_model = Pipeline(steps=[\n",
    "    ('preprocessor', preprocessor),\n",
    "    ('model', XGBRegressor(\n",
    "        learning_rate=0.1,\n",
    "        max_depth=3,\n",
    "        n_estimators=200,\n",
    "        random_state=42\n",
    "    ))\n",
    "])\n",
    "\n",
    "final_model.fit(X_train, y_train)\n",
    "final_preds = final_model.predict(X_test)\n",
    "print(\"Final Test R²:\", r2_score(y_test, final_preds))\n"
   ]
  },
  {
   "cell_type": "code",
   "execution_count": 49,
   "id": "f0c4882c-816f-4d26-9ee3-f9484059b028",
   "metadata": {},
   "outputs": [
    {
     "data": {
      "text/plain": [
       "['xgb_pipeline_model.pkl']"
      ]
     },
     "execution_count": 49,
     "metadata": {},
     "output_type": "execute_result"
    }
   ],
   "source": [
    "import joblib\n",
    "joblib.dump(final_model, 'xgb_pipeline_model.pkl')\n"
   ]
  },
  {
   "cell_type": "code",
   "execution_count": 51,
   "id": "f8d98377-9d4f-464f-a4d5-5e1c83a1d60d",
   "metadata": {},
   "outputs": [
    {
     "data": {
      "text/plain": [
       "array(['num__MSSubClass', 'num__LotFrontage', 'num__LotArea',\n",
       "       'num__OverallQual', 'num__OverallCond', 'num__YearBuilt',\n",
       "       'num__YearRemodAdd', 'num__MasVnrArea', 'num__BsmtFinSF1',\n",
       "       'num__BsmtFinSF2', 'num__BsmtUnfSF', 'num__TotalBsmtSF',\n",
       "       'num__1stFlrSF', 'num__2ndFlrSF', 'num__LowQualFinSF',\n",
       "       'num__GrLivArea', 'num__BsmtFullBath', 'num__BsmtHalfBath',\n",
       "       'num__FullBath', 'num__HalfBath', 'num__BedroomAbvGr',\n",
       "       'num__KitchenAbvGr', 'num__TotRmsAbvGrd', 'num__Fireplaces',\n",
       "       'num__GarageYrBlt', 'num__GarageCars', 'num__GarageArea',\n",
       "       'num__WoodDeckSF', 'num__OpenPorchSF', 'num__EnclosedPorch',\n",
       "       'num__3SsnPorch', 'num__ScreenPorch', 'num__PoolArea',\n",
       "       'num__MiscVal', 'num__MoSold', 'num__YrSold', 'ode__MSZoning',\n",
       "       'ode__Street', 'ode__LotShape', 'ode__LandContour',\n",
       "       'ode__Utilities', 'ode__LotConfig', 'ode__LandSlope',\n",
       "       'ode__BldgType', 'ode__ExterQual', 'ode__ExterCond',\n",
       "       'ode__BsmtQual', 'ode__BsmtCond', 'ode__BsmtExposure',\n",
       "       'ode__HeatingQC', 'ode__CentralAir', 'ode__Electrical',\n",
       "       'ode__KitchenQual', 'ode__FireplaceQu', 'ode__GarageFinish',\n",
       "       'ode__GarageQual', 'ode__GarageCond', 'ode__PavedDrive',\n",
       "       'ohe__Neighborhood_Blmngtn', 'ohe__Neighborhood_Blueste',\n",
       "       'ohe__Neighborhood_BrDale', 'ohe__Neighborhood_BrkSide',\n",
       "       'ohe__Neighborhood_ClearCr', 'ohe__Neighborhood_CollgCr',\n",
       "       'ohe__Neighborhood_Crawfor', 'ohe__Neighborhood_Edwards',\n",
       "       'ohe__Neighborhood_Gilbert', 'ohe__Neighborhood_IDOTRR',\n",
       "       'ohe__Neighborhood_MeadowV', 'ohe__Neighborhood_Mitchel',\n",
       "       'ohe__Neighborhood_NAmes', 'ohe__Neighborhood_NPkVill',\n",
       "       'ohe__Neighborhood_NWAmes', 'ohe__Neighborhood_NoRidge',\n",
       "       'ohe__Neighborhood_NridgHt', 'ohe__Neighborhood_OldTown',\n",
       "       'ohe__Neighborhood_SWISU', 'ohe__Neighborhood_Sawyer',\n",
       "       'ohe__Neighborhood_SawyerW', 'ohe__Neighborhood_Somerst',\n",
       "       'ohe__Neighborhood_StoneBr', 'ohe__Neighborhood_Timber',\n",
       "       'ohe__Neighborhood_Veenker', 'ohe__Condition1_Artery',\n",
       "       'ohe__Condition1_Feedr', 'ohe__Condition1_Norm',\n",
       "       'ohe__Condition1_PosA', 'ohe__Condition1_PosN',\n",
       "       'ohe__Condition1_RRAe', 'ohe__Condition1_RRAn',\n",
       "       'ohe__Condition1_RRNe', 'ohe__Condition1_RRNn',\n",
       "       'ohe__Condition2_Artery', 'ohe__Condition2_Feedr',\n",
       "       'ohe__Condition2_Norm', 'ohe__Condition2_PosA',\n",
       "       'ohe__Condition2_PosN', 'ohe__Condition2_RRAe',\n",
       "       'ohe__Condition2_RRAn', 'ohe__Condition2_RRNn',\n",
       "       'ohe__HouseStyle_1.5Fin', 'ohe__HouseStyle_1.5Unf',\n",
       "       'ohe__HouseStyle_1Story', 'ohe__HouseStyle_2.5Fin',\n",
       "       'ohe__HouseStyle_2.5Unf', 'ohe__HouseStyle_2Story',\n",
       "       'ohe__HouseStyle_SFoyer', 'ohe__HouseStyle_SLvl',\n",
       "       'ohe__RoofStyle_Flat', 'ohe__RoofStyle_Gable',\n",
       "       'ohe__RoofStyle_Gambrel', 'ohe__RoofStyle_Hip',\n",
       "       'ohe__RoofStyle_Mansard', 'ohe__RoofStyle_Shed',\n",
       "       'ohe__RoofMatl_ClyTile', 'ohe__RoofMatl_CompShg',\n",
       "       'ohe__RoofMatl_Metal', 'ohe__RoofMatl_Roll',\n",
       "       'ohe__RoofMatl_Tar&Grv', 'ohe__RoofMatl_WdShake',\n",
       "       'ohe__RoofMatl_WdShngl', 'ohe__Exterior1st_AsbShng',\n",
       "       'ohe__Exterior1st_AsphShn', 'ohe__Exterior1st_BrkComm',\n",
       "       'ohe__Exterior1st_BrkFace', 'ohe__Exterior1st_CBlock',\n",
       "       'ohe__Exterior1st_CemntBd', 'ohe__Exterior1st_HdBoard',\n",
       "       'ohe__Exterior1st_ImStucc', 'ohe__Exterior1st_MetalSd',\n",
       "       'ohe__Exterior1st_Plywood', 'ohe__Exterior1st_Stone',\n",
       "       'ohe__Exterior1st_Stucco', 'ohe__Exterior1st_VinylSd',\n",
       "       'ohe__Exterior1st_Wd Sdng', 'ohe__Exterior1st_WdShing',\n",
       "       'ohe__Exterior2nd_AsbShng', 'ohe__Exterior2nd_AsphShn',\n",
       "       'ohe__Exterior2nd_Brk Cmn', 'ohe__Exterior2nd_BrkFace',\n",
       "       'ohe__Exterior2nd_CBlock', 'ohe__Exterior2nd_CmentBd',\n",
       "       'ohe__Exterior2nd_HdBoard', 'ohe__Exterior2nd_ImStucc',\n",
       "       'ohe__Exterior2nd_MetalSd', 'ohe__Exterior2nd_Other',\n",
       "       'ohe__Exterior2nd_Plywood', 'ohe__Exterior2nd_Stone',\n",
       "       'ohe__Exterior2nd_Stucco', 'ohe__Exterior2nd_VinylSd',\n",
       "       'ohe__Exterior2nd_Wd Sdng', 'ohe__Exterior2nd_Wd Shng',\n",
       "       'ohe__Foundation_BrkTil', 'ohe__Foundation_CBlock',\n",
       "       'ohe__Foundation_PConc', 'ohe__Foundation_Slab',\n",
       "       'ohe__Foundation_Stone', 'ohe__Foundation_Wood',\n",
       "       'ohe__BsmtFinType1_ALQ', 'ohe__BsmtFinType1_BLQ',\n",
       "       'ohe__BsmtFinType1_GLQ', 'ohe__BsmtFinType1_LwQ',\n",
       "       'ohe__BsmtFinType1_Rec', 'ohe__BsmtFinType1_Unf',\n",
       "       'ohe__BsmtFinType2_ALQ', 'ohe__BsmtFinType2_BLQ',\n",
       "       'ohe__BsmtFinType2_GLQ', 'ohe__BsmtFinType2_LwQ',\n",
       "       'ohe__BsmtFinType2_Rec', 'ohe__BsmtFinType2_Unf',\n",
       "       'ohe__Heating_Floor', 'ohe__Heating_GasA', 'ohe__Heating_GasW',\n",
       "       'ohe__Heating_Grav', 'ohe__Heating_OthW', 'ohe__Heating_Wall',\n",
       "       'ohe__Functional_Maj1', 'ohe__Functional_Maj2',\n",
       "       'ohe__Functional_Min1', 'ohe__Functional_Min2',\n",
       "       'ohe__Functional_Mod', 'ohe__Functional_Sev',\n",
       "       'ohe__Functional_Typ', 'ohe__GarageType_2Types',\n",
       "       'ohe__GarageType_Attchd', 'ohe__GarageType_Basment',\n",
       "       'ohe__GarageType_BuiltIn', 'ohe__GarageType_CarPort',\n",
       "       'ohe__GarageType_Detchd', 'ohe__SaleType_COD', 'ohe__SaleType_CWD',\n",
       "       'ohe__SaleType_Con', 'ohe__SaleType_ConLD', 'ohe__SaleType_ConLI',\n",
       "       'ohe__SaleType_ConLw', 'ohe__SaleType_New', 'ohe__SaleType_Oth',\n",
       "       'ohe__SaleType_WD', 'ohe__SaleCondition_Abnorml',\n",
       "       'ohe__SaleCondition_AdjLand', 'ohe__SaleCondition_Alloca',\n",
       "       'ohe__SaleCondition_Family', 'ohe__SaleCondition_Normal',\n",
       "       'ohe__SaleCondition_Partial'], dtype=object)"
      ]
     },
     "execution_count": 51,
     "metadata": {},
     "output_type": "execute_result"
    }
   ],
   "source": [
    "import matplotlib.pyplot as plt\n",
    "\n",
    "xgb = final_model.named_steps['model']\n",
    "importances = xgb.feature_importances_\n",
    "\n",
    "# Get column names after preprocessing\n",
    "feature_names = final_model.named_steps['preprocessor'].get_feature_names_out()\n",
    "feature_names\n"
   ]
  },
  {
   "cell_type": "code",
   "execution_count": 52,
   "id": "d9fef348-44d9-407a-82d4-3b7cc5d28387",
   "metadata": {},
   "outputs": [
    {
     "name": "stdout",
     "output_type": "stream",
     "text": [
      "R² Score: 0.911\n",
      "MAE: 16197.27\n",
      "RMSE: 26182.23\n",
      "MAPE: 9.8%\n"
     ]
    }
   ],
   "source": [
    "from sklearn.metrics import r2_score, mean_absolute_error, mean_squared_error\n",
    "import numpy as np\n",
    "\n",
    "# After training your model and making predictions on test set:\n",
    "r2 = r2_score(y_test, y_pred)\n",
    "mae = mean_absolute_error(y_test, y_pred)\n",
    "rmse = np.sqrt(mean_squared_error(y_test, y_pred))\n",
    "mape = np.mean(np.abs((y_test - y_pred) / y_test)) * 100\n",
    "\n",
    "print(f\"R² Score: {r2:.3f}\")\n",
    "print(f\"MAE: {mae:.2f}\")\n",
    "print(f\"RMSE: {rmse:.2f}\")\n",
    "print(f\"MAPE: {mape:.1f}%\")"
   ]
  },
  {
   "cell_type": "code",
   "execution_count": 53,
   "id": "f5ba631b-3c63-41dd-ab22-d55a2001b33c",
   "metadata": {},
   "outputs": [],
   "source": [
    "X_test.to_csv('test_data.csv', index=False)"
   ]
  },
  {
   "cell_type": "code",
   "execution_count": 54,
   "id": "48ae8891-7545-4501-91b5-715704412a89",
   "metadata": {},
   "outputs": [
    {
     "data": {
      "text/plain": [
       "['y_test.pkl']"
      ]
     },
     "execution_count": 54,
     "metadata": {},
     "output_type": "execute_result"
    }
   ],
   "source": [
    "# Save y_test as pickle\n",
    "import joblib\n",
    "joblib.dump(y_test, 'y_test.pkl')"
   ]
  },
  {
   "cell_type": "code",
   "execution_count": null,
   "id": "24b488ea-3d6a-4708-b712-f3650a0da5ef",
   "metadata": {},
   "outputs": [],
   "source": []
  }
 ],
 "metadata": {
  "kernelspec": {
   "display_name": "Python 3 (ipykernel)",
   "language": "python",
   "name": "python3"
  },
  "language_info": {
   "codemirror_mode": {
    "name": "ipython",
    "version": 3
   },
   "file_extension": ".py",
   "mimetype": "text/x-python",
   "name": "python",
   "nbconvert_exporter": "python",
   "pygments_lexer": "ipython3",
   "version": "3.13.5"
  }
 },
 "nbformat": 4,
 "nbformat_minor": 5
}
